{
 "cells": [
  {
   "cell_type": "markdown",
   "metadata": {
    "vscode": {
     "languageId": "html"
    }
   },
   "source": [
    "<img src=health-fitness-image.jpg>"
   ]
  },
  {
   "cell_type": "markdown",
   "metadata": {},
   "source": [
    "#### According according to the World Health Organization (WHO), health is \"the level of functional or metabolic efficiency of a living organism\". While fitness is referred to \"a state of health and well-being of the body\".\n",
    "\n",
    "#### Health and Fitness Relationship is a data analysis project with a focus on comparing and contrasting fitness activity to select health indicators. Activity measurement originated from fitness trackers, a sports logging app and manual data entry from participants."
   ]
  },
  {
   "cell_type": "code",
   "execution_count": 1,
   "metadata": {},
   "outputs": [
    {
     "data": {
      "text/html": [
       "<div>\n",
       "<style scoped>\n",
       "    .dataframe tbody tr th:only-of-type {\n",
       "        vertical-align: middle;\n",
       "    }\n",
       "\n",
       "    .dataframe tbody tr th {\n",
       "        vertical-align: top;\n",
       "    }\n",
       "\n",
       "    .dataframe thead th {\n",
       "        text-align: right;\n",
       "    }\n",
       "</style>\n",
       "<table border=\"1\" class=\"dataframe\">\n",
       "  <thead>\n",
       "    <tr style=\"text-align: right;\">\n",
       "      <th></th>\n",
       "      <th>Date</th>\n",
       "      <th>Active energy burned(Cal)</th>\n",
       "      <th>Apple Watch stand hours(hr)</th>\n",
       "      <th>Basal energy burned(Cal)</th>\n",
       "      <th>Distance walking / running(mi)</th>\n",
       "      <th>Exercise time(min)</th>\n",
       "      <th>Flights climbed(count)</th>\n",
       "      <th>Heart rate(count/min)</th>\n",
       "      <th>Resting heart rate(count/min)</th>\n",
       "      <th>Stand time(min)</th>\n",
       "      <th>Step count(count)</th>\n",
       "      <th>Walking heart rate average(count/min)</th>\n",
       "    </tr>\n",
       "  </thead>\n",
       "  <tbody>\n",
       "    <tr>\n",
       "      <th>0</th>\n",
       "      <td>2019-11-01</td>\n",
       "      <td>NaN</td>\n",
       "      <td>NaN</td>\n",
       "      <td>NaN</td>\n",
       "      <td>1.911</td>\n",
       "      <td>NaN</td>\n",
       "      <td>NaN</td>\n",
       "      <td>NaN</td>\n",
       "      <td>NaN</td>\n",
       "      <td>NaN</td>\n",
       "      <td>5940.0</td>\n",
       "      <td>NaN</td>\n",
       "    </tr>\n",
       "    <tr>\n",
       "      <th>1</th>\n",
       "      <td>2019-11-02</td>\n",
       "      <td>NaN</td>\n",
       "      <td>NaN</td>\n",
       "      <td>NaN</td>\n",
       "      <td>0.985</td>\n",
       "      <td>NaN</td>\n",
       "      <td>NaN</td>\n",
       "      <td>NaN</td>\n",
       "      <td>NaN</td>\n",
       "      <td>NaN</td>\n",
       "      <td>2909.0</td>\n",
       "      <td>NaN</td>\n",
       "    </tr>\n",
       "    <tr>\n",
       "      <th>2</th>\n",
       "      <td>2019-11-03</td>\n",
       "      <td>NaN</td>\n",
       "      <td>NaN</td>\n",
       "      <td>NaN</td>\n",
       "      <td>0.718</td>\n",
       "      <td>NaN</td>\n",
       "      <td>NaN</td>\n",
       "      <td>NaN</td>\n",
       "      <td>NaN</td>\n",
       "      <td>NaN</td>\n",
       "      <td>2151.0</td>\n",
       "      <td>NaN</td>\n",
       "    </tr>\n",
       "    <tr>\n",
       "      <th>3</th>\n",
       "      <td>2019-11-04</td>\n",
       "      <td>NaN</td>\n",
       "      <td>NaN</td>\n",
       "      <td>NaN</td>\n",
       "      <td>0.634</td>\n",
       "      <td>NaN</td>\n",
       "      <td>1.0</td>\n",
       "      <td>NaN</td>\n",
       "      <td>NaN</td>\n",
       "      <td>NaN</td>\n",
       "      <td>1783.0</td>\n",
       "      <td>NaN</td>\n",
       "    </tr>\n",
       "    <tr>\n",
       "      <th>4</th>\n",
       "      <td>2019-11-05</td>\n",
       "      <td>NaN</td>\n",
       "      <td>NaN</td>\n",
       "      <td>NaN</td>\n",
       "      <td>1.426</td>\n",
       "      <td>NaN</td>\n",
       "      <td>3.0</td>\n",
       "      <td>NaN</td>\n",
       "      <td>NaN</td>\n",
       "      <td>NaN</td>\n",
       "      <td>4153.0</td>\n",
       "      <td>NaN</td>\n",
       "    </tr>\n",
       "  </tbody>\n",
       "</table>\n",
       "</div>"
      ],
      "text/plain": [
       "         Date  Active energy burned(Cal)  Apple Watch stand hours(hr)  \\\n",
       "0  2019-11-01                        NaN                          NaN   \n",
       "1  2019-11-02                        NaN                          NaN   \n",
       "2  2019-11-03                        NaN                          NaN   \n",
       "3  2019-11-04                        NaN                          NaN   \n",
       "4  2019-11-05                        NaN                          NaN   \n",
       "\n",
       "   Basal energy burned(Cal)  Distance walking / running(mi)  \\\n",
       "0                       NaN                           1.911   \n",
       "1                       NaN                           0.985   \n",
       "2                       NaN                           0.718   \n",
       "3                       NaN                           0.634   \n",
       "4                       NaN                           1.426   \n",
       "\n",
       "   Exercise time(min)  Flights climbed(count)  Heart rate(count/min)  \\\n",
       "0                 NaN                     NaN                    NaN   \n",
       "1                 NaN                     NaN                    NaN   \n",
       "2                 NaN                     NaN                    NaN   \n",
       "3                 NaN                     1.0                    NaN   \n",
       "4                 NaN                     3.0                    NaN   \n",
       "\n",
       "   Resting heart rate(count/min)  Stand time(min)  Step count(count)  \\\n",
       "0                            NaN              NaN             5940.0   \n",
       "1                            NaN              NaN             2909.0   \n",
       "2                            NaN              NaN             2151.0   \n",
       "3                            NaN              NaN             1783.0   \n",
       "4                            NaN              NaN             4153.0   \n",
       "\n",
       "   Walking heart rate average(count/min)  \n",
       "0                                    NaN  \n",
       "1                                    NaN  \n",
       "2                                    NaN  \n",
       "3                                    NaN  \n",
       "4                                    NaN  "
      ]
     },
     "execution_count": 1,
     "metadata": {},
     "output_type": "execute_result"
    }
   ],
   "source": [
    "#Import programs needed for project\n",
    "import numpy as np\n",
    "import pandas as pd\n",
    "#Read in health data from Kim Wolf's iWatch and iPhone export for time period November 1, 2019 - September 30, 2022 and create kw_data dataframe.\n",
    "#Display the first 5 rows of data.\n",
    "kw_data = pd.read_csv(\"Export_KW_HealthDataDays_2019-11-01_2022-09-30.csv\")\n",
    "kw_data.head()"
   ]
  },
  {
   "cell_type": "code",
   "execution_count": null,
   "metadata": {},
   "outputs": [
    {
     "data": {
      "text/plain": [
       "Date                                      object\n",
       "Active energy burned(Cal)                float64\n",
       "Apple Watch stand hours(hr)              float64\n",
       "Basal energy burned(Cal)                 float64\n",
       "Distance walking / running(mi)           float64\n",
       "Exercise time(min)                       float64\n",
       "Flights climbed(count)                   float64\n",
       "Heart rate(count/min)                    float64\n",
       "Resting heart rate(count/min)            float64\n",
       "Stand time(min)                          float64\n",
       "Step count(count)                        float64\n",
       "Walking heart rate average(count/min)    float64\n",
       "dtype: object"
      ]
     },
     "execution_count": 35,
     "metadata": {},
     "output_type": "execute_result"
    }
   ],
   "source": [
    "#Identify data classes in kw_data dataframe\n",
    "kw_data.dtypes"
   ]
  },
  {
   "cell_type": "code",
   "execution_count": 3,
   "metadata": {},
   "outputs": [
    {
     "data": {
      "text/html": [
       "<div>\n",
       "<style scoped>\n",
       "    .dataframe tbody tr th:only-of-type {\n",
       "        vertical-align: middle;\n",
       "    }\n",
       "\n",
       "    .dataframe tbody tr th {\n",
       "        vertical-align: top;\n",
       "    }\n",
       "\n",
       "    .dataframe thead th {\n",
       "        text-align: right;\n",
       "    }\n",
       "</style>\n",
       "<table border=\"1\" class=\"dataframe\">\n",
       "  <thead>\n",
       "    <tr style=\"text-align: right;\">\n",
       "      <th></th>\n",
       "      <th>Date</th>\n",
       "      <th>Heart rate(count/min)</th>\n",
       "      <th>Resting heart rate(count/min)</th>\n",
       "      <th>Step count(count)</th>\n",
       "    </tr>\n",
       "  </thead>\n",
       "  <tbody>\n",
       "    <tr>\n",
       "      <th>0</th>\n",
       "      <td>2019-11-01</td>\n",
       "      <td>NaN</td>\n",
       "      <td>NaN</td>\n",
       "      <td>5940.0</td>\n",
       "    </tr>\n",
       "    <tr>\n",
       "      <th>1</th>\n",
       "      <td>2019-11-02</td>\n",
       "      <td>NaN</td>\n",
       "      <td>NaN</td>\n",
       "      <td>2909.0</td>\n",
       "    </tr>\n",
       "    <tr>\n",
       "      <th>2</th>\n",
       "      <td>2019-11-03</td>\n",
       "      <td>NaN</td>\n",
       "      <td>NaN</td>\n",
       "      <td>2151.0</td>\n",
       "    </tr>\n",
       "    <tr>\n",
       "      <th>3</th>\n",
       "      <td>2019-11-04</td>\n",
       "      <td>NaN</td>\n",
       "      <td>NaN</td>\n",
       "      <td>1783.0</td>\n",
       "    </tr>\n",
       "    <tr>\n",
       "      <th>4</th>\n",
       "      <td>2019-11-05</td>\n",
       "      <td>NaN</td>\n",
       "      <td>NaN</td>\n",
       "      <td>4153.0</td>\n",
       "    </tr>\n",
       "  </tbody>\n",
       "</table>\n",
       "</div>"
      ],
      "text/plain": [
       "         Date  Heart rate(count/min)  Resting heart rate(count/min)  \\\n",
       "0  2019-11-01                    NaN                            NaN   \n",
       "1  2019-11-02                    NaN                            NaN   \n",
       "2  2019-11-03                    NaN                            NaN   \n",
       "3  2019-11-04                    NaN                            NaN   \n",
       "4  2019-11-05                    NaN                            NaN   \n",
       "\n",
       "   Step count(count)  \n",
       "0             5940.0  \n",
       "1             2909.0  \n",
       "2             2151.0  \n",
       "3             1783.0  \n",
       "4             4153.0  "
      ]
     },
     "execution_count": 3,
     "metadata": {},
     "output_type": "execute_result"
    }
   ],
   "source": [
    "#Create new dataframe of select health and activity data. Including heart rate, resting heart rate and step count from kw_data and create new dataframe.\n",
    "#Display the first 5 rows of data in the newly created dataframe kw_data2.\n",
    "kw_data2 = kw_data[['Date', 'Heart rate(count/min)', 'Resting heart rate(count/min)', 'Step count(count)']].copy()\n",
    "kw_data2.head()"
   ]
  },
  {
   "cell_type": "code",
   "execution_count": null,
   "metadata": {},
   "outputs": [
    {
     "name": "stdout",
     "output_type": "stream",
     "text": [
      "            Date  Heart rate(count/min)  Resting heart rate(count/min)  \\\n",
      "0     2019-11-01                    NaN                            NaN   \n",
      "1     2019-11-02                    NaN                            NaN   \n",
      "2     2019-11-03                    NaN                            NaN   \n",
      "3     2019-11-04                    NaN                            NaN   \n",
      "4     2019-11-05                    NaN                            NaN   \n",
      "...          ...                    ...                            ...   \n",
      "1060  2022-09-26                 87.555                           56.0   \n",
      "1061  2022-09-27                 77.676                           53.0   \n",
      "1062  2022-09-28                 77.643                           49.0   \n",
      "1063  2022-09-29                 74.585                           60.0   \n",
      "1064  2022-09-30                 64.816                           53.0   \n",
      "\n",
      "      Step count(count)  \n",
      "0                5940.0  \n",
      "1                2909.0  \n",
      "2                2151.0  \n",
      "3                1783.0  \n",
      "4                4153.0  \n",
      "...                 ...  \n",
      "1060            14289.0  \n",
      "1061            10460.0  \n",
      "1062            11064.0  \n",
      "1063             8909.0  \n",
      "1064             5916.0  \n",
      "\n",
      "[1065 rows x 4 columns]\n"
     ]
    }
   ],
   "source": [
    "#Display data from kw_data2.\n",
    "print(kw_data2)"
   ]
  },
  {
   "cell_type": "code",
   "execution_count": 6,
   "metadata": {},
   "outputs": [],
   "source": [
    "##Need to import matplotlib so I can create some charts - or figure out how to create a dashboard using Tableau"
   ]
  },
  {
   "cell_type": "code",
   "execution_count": 7,
   "metadata": {},
   "outputs": [
    {
     "data": {
      "text/html": [
       "<div>\n",
       "<style scoped>\n",
       "    .dataframe tbody tr th:only-of-type {\n",
       "        vertical-align: middle;\n",
       "    }\n",
       "\n",
       "    .dataframe tbody tr th {\n",
       "        vertical-align: top;\n",
       "    }\n",
       "\n",
       "    .dataframe thead th {\n",
       "        text-align: right;\n",
       "    }\n",
       "</style>\n",
       "<table border=\"1\" class=\"dataframe\">\n",
       "  <thead>\n",
       "    <tr style=\"text-align: right;\">\n",
       "      <th></th>\n",
       "      <th>dateTime</th>\n",
       "      <th>value</th>\n",
       "    </tr>\n",
       "  </thead>\n",
       "  <tbody>\n",
       "    <tr>\n",
       "      <th>0</th>\n",
       "      <td>2019-11-01 00:00:05</td>\n",
       "      <td>{'bpm': 54, 'confidence': 3}</td>\n",
       "    </tr>\n",
       "    <tr>\n",
       "      <th>1</th>\n",
       "      <td>2019-11-01 00:00:10</td>\n",
       "      <td>{'bpm': 52, 'confidence': 3}</td>\n",
       "    </tr>\n",
       "    <tr>\n",
       "      <th>2</th>\n",
       "      <td>2019-11-01 00:00:20</td>\n",
       "      <td>{'bpm': 51, 'confidence': 3}</td>\n",
       "    </tr>\n",
       "    <tr>\n",
       "      <th>3</th>\n",
       "      <td>2019-11-01 00:00:25</td>\n",
       "      <td>{'bpm': 52, 'confidence': 3}</td>\n",
       "    </tr>\n",
       "    <tr>\n",
       "      <th>4</th>\n",
       "      <td>2019-11-01 00:00:30</td>\n",
       "      <td>{'bpm': 51, 'confidence': 3}</td>\n",
       "    </tr>\n",
       "  </tbody>\n",
       "</table>\n",
       "</div>"
      ],
      "text/plain": [
       "             dateTime                         value\n",
       "0 2019-11-01 00:00:05  {'bpm': 54, 'confidence': 3}\n",
       "1 2019-11-01 00:00:10  {'bpm': 52, 'confidence': 3}\n",
       "2 2019-11-01 00:00:20  {'bpm': 51, 'confidence': 3}\n",
       "3 2019-11-01 00:00:25  {'bpm': 52, 'confidence': 3}\n",
       "4 2019-11-01 00:00:30  {'bpm': 51, 'confidence': 3}"
      ]
     },
     "execution_count": 7,
     "metadata": {},
     "output_type": "execute_result"
    }
   ],
   "source": [
    "#Read in heart rate data from a data set of multiple participants for the time period November 1, 2019 - unknown.\n",
    "##This code currently reads information of only one participant. Need to figure out how to read in data from multiple participants.\n",
    "#Display the first 5 rows of data.\n",
    "p01_heart_rate = pd.read_json(\"osfstorage-archive/pmdata/p01/fitbit/heart_rate.json\" )\n",
    "p01_heart_rate.head()"
   ]
  },
  {
   "cell_type": "code",
   "execution_count": null,
   "metadata": {},
   "outputs": [
    {
     "name": "stdout",
     "output_type": "stream",
     "text": [
      "                   dateTime                         value\n",
      "0       2019-11-01 00:00:05  {'bpm': 54, 'confidence': 3}\n",
      "1       2019-11-01 00:00:10  {'bpm': 52, 'confidence': 3}\n",
      "2       2019-11-01 00:00:20  {'bpm': 51, 'confidence': 3}\n",
      "3       2019-11-01 00:00:25  {'bpm': 52, 'confidence': 3}\n",
      "4       2019-11-01 00:00:30  {'bpm': 51, 'confidence': 3}\n",
      "...                     ...                           ...\n",
      "1573160 2020-03-31 23:59:18  {'bpm': 55, 'confidence': 3}\n",
      "1573161 2020-03-31 23:59:23  {'bpm': 54, 'confidence': 3}\n",
      "1573162 2020-03-31 23:59:33  {'bpm': 56, 'confidence': 3}\n",
      "1573163 2020-03-31 23:59:48  {'bpm': 56, 'confidence': 3}\n",
      "1573164 2020-03-31 23:59:58  {'bpm': 55, 'confidence': 3}\n",
      "\n",
      "[1573165 rows x 2 columns]\n"
     ]
    }
   ],
   "source": [
    "#Display data from p01_heart_rate to determine ending time period.\n",
    "print(p01_heart_rate)"
   ]
  },
  {
   "cell_type": "code",
   "execution_count": null,
   "metadata": {},
   "outputs": [
    {
     "name": "stdout",
     "output_type": "stream",
     "text": [
      "                   dateTime                     HeartRate\n",
      "0       2019-11-01 00:00:05  {'bpm': 54, 'confidence': 3}\n",
      "1       2019-11-01 00:00:10  {'bpm': 52, 'confidence': 3}\n",
      "2       2019-11-01 00:00:20  {'bpm': 51, 'confidence': 3}\n",
      "3       2019-11-01 00:00:25  {'bpm': 52, 'confidence': 3}\n",
      "4       2019-11-01 00:00:30  {'bpm': 51, 'confidence': 3}\n",
      "...                     ...                           ...\n",
      "1573160 2020-03-31 23:59:18  {'bpm': 55, 'confidence': 3}\n",
      "1573161 2020-03-31 23:59:23  {'bpm': 54, 'confidence': 3}\n",
      "1573162 2020-03-31 23:59:33  {'bpm': 56, 'confidence': 3}\n",
      "1573163 2020-03-31 23:59:48  {'bpm': 56, 'confidence': 3}\n",
      "1573164 2020-03-31 23:59:58  {'bpm': 55, 'confidence': 3}\n",
      "\n",
      "[1573165 rows x 2 columns]\n"
     ]
    }
   ],
   "source": [
    "# Write a query in Pandas to rename select column name\n",
    "p01_heart_rate.rename(columns = {'value':'HeartRate'}, inplace = True)\n",
    "# View dataframe to confirm column name change\n",
    "print(p01_heart_rate)"
   ]
  },
  {
   "cell_type": "code",
   "execution_count": null,
   "metadata": {},
   "outputs": [
    {
     "data": {
      "text/html": [
       "<div>\n",
       "<style scoped>\n",
       "    .dataframe tbody tr th:only-of-type {\n",
       "        vertical-align: middle;\n",
       "    }\n",
       "\n",
       "    .dataframe tbody tr th {\n",
       "        vertical-align: top;\n",
       "    }\n",
       "\n",
       "    .dataframe thead th {\n",
       "        text-align: right;\n",
       "    }\n",
       "</style>\n",
       "<table border=\"1\" class=\"dataframe\">\n",
       "  <thead>\n",
       "    <tr style=\"text-align: right;\">\n",
       "      <th></th>\n",
       "      <th>dateTime</th>\n",
       "      <th>value</th>\n",
       "    </tr>\n",
       "  </thead>\n",
       "  <tbody>\n",
       "    <tr>\n",
       "      <th>0</th>\n",
       "      <td>2019-11-01</td>\n",
       "      <td>{'date': '11/01/19', 'value': 53.7410736083984...</td>\n",
       "    </tr>\n",
       "    <tr>\n",
       "      <th>1</th>\n",
       "      <td>2019-11-02</td>\n",
       "      <td>{'date': '11/02/19', 'value': 52.8814973831176...</td>\n",
       "    </tr>\n",
       "    <tr>\n",
       "      <th>2</th>\n",
       "      <td>2019-11-03</td>\n",
       "      <td>{'date': '11/03/19', 'value': 53.2220239639282...</td>\n",
       "    </tr>\n",
       "    <tr>\n",
       "      <th>3</th>\n",
       "      <td>2019-11-04</td>\n",
       "      <td>{'date': '11/04/19', 'value': 54.3111410140991...</td>\n",
       "    </tr>\n",
       "    <tr>\n",
       "      <th>4</th>\n",
       "      <td>2019-11-05</td>\n",
       "      <td>{'date': '11/05/19', 'value': 52.2591104507446...</td>\n",
       "    </tr>\n",
       "  </tbody>\n",
       "</table>\n",
       "</div>"
      ],
      "text/plain": [
       "    dateTime                                              value\n",
       "0 2019-11-01  {'date': '11/01/19', 'value': 53.7410736083984...\n",
       "1 2019-11-02  {'date': '11/02/19', 'value': 52.8814973831176...\n",
       "2 2019-11-03  {'date': '11/03/19', 'value': 53.2220239639282...\n",
       "3 2019-11-04  {'date': '11/04/19', 'value': 54.3111410140991...\n",
       "4 2019-11-05  {'date': '11/05/19', 'value': 52.2591104507446..."
      ]
     },
     "execution_count": 38,
     "metadata": {},
     "output_type": "execute_result"
    }
   ],
   "source": [
    "#Read in resting heart rate data from Kaggle data set of multiple participants for the time period November 1, 2019 - unknown.\n",
    "#Display the first 5 rows of data.\n",
    "p01_resting_heart_rate = pd.read_json(\"osfstorage-archive/pmdata/p01/fitbit/resting_heart_rate.json\")\n",
    "p01_resting_heart_rate.head()"
   ]
  },
  {
   "cell_type": "code",
   "execution_count": null,
   "metadata": {},
   "outputs": [
    {
     "name": "stdout",
     "output_type": "stream",
     "text": [
      "      dateTime                                              value\n",
      "0   2019-11-01  {'date': '11/01/19', 'value': 53.7410736083984...\n",
      "1   2019-11-02  {'date': '11/02/19', 'value': 52.8814973831176...\n",
      "2   2019-11-03  {'date': '11/03/19', 'value': 53.2220239639282...\n",
      "3   2019-11-04  {'date': '11/04/19', 'value': 54.3111410140991...\n",
      "4   2019-11-05  {'date': '11/05/19', 'value': 52.2591104507446...\n",
      "..         ...                                                ...\n",
      "147 2020-03-27  {'date': '03/27/20', 'value': 50.2325077056884...\n",
      "148 2020-03-28  {'date': '03/28/20', 'value': 51.1251735687255...\n",
      "149 2020-03-29  {'date': '03/29/20', 'value': 53.0705003738403...\n",
      "150 2020-03-30  {'date': '03/30/20', 'value': 52.1750831604003...\n",
      "151 2020-03-31  {'date': '03/31/20', 'value': 52.5566682815551...\n",
      "\n",
      "[152 rows x 2 columns]\n"
     ]
    }
   ],
   "source": [
    "#Display data from p01_resting_heart_rate to determine ending time period.\n",
    "print(p01_resting_heart_rate)"
   ]
  },
  {
   "cell_type": "code",
   "execution_count": null,
   "metadata": {},
   "outputs": [
    {
     "name": "stdout",
     "output_type": "stream",
     "text": [
      "      dateTime                                   RestingHeartRate\n",
      "0   2019-11-01  {'date': '11/01/19', 'value': 53.7410736083984...\n",
      "1   2019-11-02  {'date': '11/02/19', 'value': 52.8814973831176...\n",
      "2   2019-11-03  {'date': '11/03/19', 'value': 53.2220239639282...\n",
      "3   2019-11-04  {'date': '11/04/19', 'value': 54.3111410140991...\n",
      "4   2019-11-05  {'date': '11/05/19', 'value': 52.2591104507446...\n",
      "..         ...                                                ...\n",
      "147 2020-03-27  {'date': '03/27/20', 'value': 50.2325077056884...\n",
      "148 2020-03-28  {'date': '03/28/20', 'value': 51.1251735687255...\n",
      "149 2020-03-29  {'date': '03/29/20', 'value': 53.0705003738403...\n",
      "150 2020-03-30  {'date': '03/30/20', 'value': 52.1750831604003...\n",
      "151 2020-03-31  {'date': '03/31/20', 'value': 52.5566682815551...\n",
      "\n",
      "[152 rows x 2 columns]\n"
     ]
    }
   ],
   "source": [
    "# Write a query in Pandas to rename select column name\n",
    "p01_resting_heart_rate.rename(columns = {'value':'RestingHeartRate'}, inplace = True)\n",
    "# View dataframe to confirm column name change\n",
    "print(p01_resting_heart_rate)"
   ]
  },
  {
   "cell_type": "code",
   "execution_count": null,
   "metadata": {},
   "outputs": [
    {
     "data": {
      "text/html": [
       "<div>\n",
       "<style scoped>\n",
       "    .dataframe tbody tr th:only-of-type {\n",
       "        vertical-align: middle;\n",
       "    }\n",
       "\n",
       "    .dataframe tbody tr th {\n",
       "        vertical-align: top;\n",
       "    }\n",
       "\n",
       "    .dataframe thead th {\n",
       "        text-align: right;\n",
       "    }\n",
       "</style>\n",
       "<table border=\"1\" class=\"dataframe\">\n",
       "  <thead>\n",
       "    <tr style=\"text-align: right;\">\n",
       "      <th></th>\n",
       "      <th>dateTime</th>\n",
       "      <th>value</th>\n",
       "    </tr>\n",
       "  </thead>\n",
       "  <tbody>\n",
       "    <tr>\n",
       "      <th>0</th>\n",
       "      <td>2019-11-01 00:00:00</td>\n",
       "      <td>0</td>\n",
       "    </tr>\n",
       "    <tr>\n",
       "      <th>1</th>\n",
       "      <td>2019-11-01 00:01:00</td>\n",
       "      <td>0</td>\n",
       "    </tr>\n",
       "    <tr>\n",
       "      <th>2</th>\n",
       "      <td>2019-11-01 00:02:00</td>\n",
       "      <td>0</td>\n",
       "    </tr>\n",
       "    <tr>\n",
       "      <th>3</th>\n",
       "      <td>2019-11-01 00:03:00</td>\n",
       "      <td>0</td>\n",
       "    </tr>\n",
       "    <tr>\n",
       "      <th>4</th>\n",
       "      <td>2019-11-01 00:04:00</td>\n",
       "      <td>0</td>\n",
       "    </tr>\n",
       "  </tbody>\n",
       "</table>\n",
       "</div>"
      ],
      "text/plain": [
       "             dateTime  value\n",
       "0 2019-11-01 00:00:00      0\n",
       "1 2019-11-01 00:01:00      0\n",
       "2 2019-11-01 00:02:00      0\n",
       "3 2019-11-01 00:03:00      0\n",
       "4 2019-11-01 00:04:00      0"
      ]
     },
     "execution_count": 39,
     "metadata": {},
     "output_type": "execute_result"
    }
   ],
   "source": [
    "#Read in steps data from Kaggle data set of multiple participants for the time period November 1, 2019 - unknown.\n",
    "#Display the first 5 rows of data.\n",
    "p01_steps = pd.read_json(\"osfstorage-archive/pmdata/p01/fitbit/steps.json\")\n",
    "p01_steps.head()"
   ]
  },
  {
   "cell_type": "code",
   "execution_count": null,
   "metadata": {},
   "outputs": [
    {
     "name": "stdout",
     "output_type": "stream",
     "text": [
      "                  dateTime  value\n",
      "0      2019-11-01 00:00:00      0\n",
      "1      2019-11-01 00:01:00      0\n",
      "2      2019-11-01 00:02:00      0\n",
      "3      2019-11-01 00:03:00      0\n",
      "4      2019-11-01 00:04:00      0\n",
      "...                    ...    ...\n",
      "218831 2020-03-31 23:55:00      0\n",
      "218832 2020-03-31 23:56:00      0\n",
      "218833 2020-03-31 23:57:00      0\n",
      "218834 2020-03-31 23:58:00      0\n",
      "218835 2020-03-31 23:59:00      0\n",
      "\n",
      "[218836 rows x 2 columns]\n"
     ]
    }
   ],
   "source": [
    "#Display data from p01_steps to determine ending time period.\n",
    "print(p01_steps)"
   ]
  },
  {
   "cell_type": "code",
   "execution_count": null,
   "metadata": {},
   "outputs": [
    {
     "name": "stdout",
     "output_type": "stream",
     "text": [
      "                  dateTime  Steps\n",
      "0      2019-11-01 00:00:00      0\n",
      "1      2019-11-01 00:01:00      0\n",
      "2      2019-11-01 00:02:00      0\n",
      "3      2019-11-01 00:03:00      0\n",
      "4      2019-11-01 00:04:00      0\n",
      "...                    ...    ...\n",
      "218831 2020-03-31 23:55:00      0\n",
      "218832 2020-03-31 23:56:00      0\n",
      "218833 2020-03-31 23:57:00      0\n",
      "218834 2020-03-31 23:58:00      0\n",
      "218835 2020-03-31 23:59:00      0\n",
      "\n",
      "[218836 rows x 2 columns]\n"
     ]
    }
   ],
   "source": [
    "# Write a query in Pandas to rename select column name\n",
    "p01_steps.rename(columns = {'value':'Steps'}, inplace = True)\n",
    "# View dataframe to confirm column name change\n",
    "print(p01_steps)"
   ]
  },
  {
   "cell_type": "code",
   "execution_count": null,
   "metadata": {},
   "outputs": [],
   "source": [
    "#Create a new dataframe of participant (p01) data for the time period November 1, 2019 - March 31, 2021.\n",
    "#New dataframe includes heart rate, resting heart rate and steps.\n",
    "#Display dataframe.\n"
   ]
  }
 ],
 "metadata": {
  "kernelspec": {
   "display_name": "Python 3.10.7 64-bit",
   "language": "python",
   "name": "python3"
  },
  "language_info": {
   "codemirror_mode": {
    "name": "ipython",
    "version": 3
   },
   "file_extension": ".py",
   "mimetype": "text/x-python",
   "name": "python",
   "nbconvert_exporter": "python",
   "pygments_lexer": "ipython3",
   "version": "3.10.7"
  },
  "orig_nbformat": 4,
  "vscode": {
   "interpreter": {
    "hash": "369f2c481f4da34e4445cda3fffd2e751bd1c4d706f27375911949ba6bb62e1c"
   }
  }
 },
 "nbformat": 4,
 "nbformat_minor": 2
}
